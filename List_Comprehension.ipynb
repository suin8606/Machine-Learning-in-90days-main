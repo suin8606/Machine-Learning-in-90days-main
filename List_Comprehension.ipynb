{
  "nbformat": 4,
  "nbformat_minor": 0,
  "metadata": {
    "colab": {
      "name": "List Comprehension.ipynb",
      "provenance": [],
      "authorship_tag": "ABX9TyOxWmBsX9+QcRWQOjU4Y1+d",
      "include_colab_link": true
    },
    "kernelspec": {
      "name": "python3",
      "display_name": "Python 3"
    },
    "language_info": {
      "name": "python"
    }
  },
  "cells": [
    {
      "cell_type": "markdown",
      "metadata": {
        "id": "view-in-github",
        "colab_type": "text"
      },
      "source": [
        "<a href=\"https://colab.research.google.com/github/suin8606/Machine-Learning-in-90days/blob/main/List_Comprehension.ipynb\" target=\"_parent\"><img src=\"https://colab.research.google.com/assets/colab-badge.svg\" alt=\"Open In Colab\"/></a>"
      ]
    },
    {
      "cell_type": "markdown",
      "source": [
        "# List Comprehension\n",
        "\n",
        "List comprehension provides a concise way to create list. it consists of brackets containing an expression followed by a for clause, then zero or more for or if clauses. The expression can be anyhing, meaning it can put in all kinds of object in list."
      ],
      "metadata": {
        "id": "edc45x-FVcKg"
      }
    },
    {
      "cell_type": "code",
      "source": [
        "lst1=[]\n",
        "def list_square(lst):\n",
        "    for i in lst:\n",
        "        lst1.append(i**2)\n",
        "    return lst\n",
        "list_square([1,2,3,4,5,6,7,8,9])"
      ],
      "metadata": {
        "colab": {
          "base_uri": "https://localhost:8080/"
        },
        "id": "yy5vlWihV31p",
        "outputId": "38e427fd-64fe-4b48-e49a-0de9418a66e9"
      },
      "execution_count": 17,
      "outputs": [
        {
          "output_type": "execute_result",
          "data": {
            "text/plain": [
              "[1, 2, 3, 4, 5, 6, 7, 8, 9]"
            ]
          },
          "metadata": {},
          "execution_count": 17
        }
      ]
    },
    {
      "cell_type": "markdown",
      "source": [
        "But this, for clause, requires a lot of memory and the code will be complex. Using list comprehension can make it simpler!"
      ],
      "metadata": {
        "id": "88A8nairWkJU"
      }
    },
    {
      "cell_type": "code",
      "source": [
        "a1=[1,2,3,4,5,6,7,8,9]\n",
        "a1=[i**2 for i in a1]\n",
        "print(a1)\n",
        " # as description says, starts with empty bracket then contains for clause expression inside"
      ],
      "metadata": {
        "id": "eZfxGGXvW7f5"
      },
      "execution_count": 9,
      "outputs": []
    },
    {
      "cell_type": "markdown",
      "source": [
        "Extra condition is added - if function, so we can filter only even number."
      ],
      "metadata": {
        "id": "_FjFsETzZYvs"
      }
    },
    {
      "cell_type": "code",
      "source": [
        "a1=[1,2,3,4,5,6,7,8,9]\n",
        "a1=[i**2 for i in a1 if i%2==0] \n",
        "print(a1)"
      ],
      "metadata": {
        "colab": {
          "base_uri": "https://localhost:8080/"
        },
        "id": "R6vPMVeoXwQw",
        "outputId": "78155649-fb8b-4042-dd22-b205e4484813"
      },
      "execution_count": 21,
      "outputs": [
        {
          "output_type": "stream",
          "name": "stdout",
          "text": [
            "[4, 16, 36, 64]\n"
          ]
        }
      ]
    },
    {
      "cell_type": "code",
      "source": [
        "a1=[1,2,3,4,5,6,7,8,9]\n",
        "a1=[i**2 for i in a1 if i%2!=0] \n",
        "print(a1)"
      ],
      "metadata": {
        "colab": {
          "base_uri": "https://localhost:8080/"
        },
        "id": "eoEam3ByYYSK",
        "outputId": "ffda6671-7c28-4a8b-c76d-ec7dddc060f2"
      },
      "execution_count": 22,
      "outputs": [
        {
          "output_type": "stream",
          "name": "stdout",
          "text": [
            "[1, 9, 25, 49, 81]\n"
          ]
        }
      ]
    }
  ]
}