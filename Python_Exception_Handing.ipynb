{
  "nbformat": 4,
  "nbformat_minor": 0,
  "metadata": {
    "colab": {
      "name": "Python Exception Handing.ipynb",
      "provenance": [],
      "authorship_tag": "ABX9TyPSHw2fMWg+ZNU76j+M3i5x",
      "include_colab_link": true
    },
    "kernelspec": {
      "name": "python3",
      "display_name": "Python 3"
    },
    "language_info": {
      "name": "python"
    }
  },
  "cells": [
    {
      "cell_type": "markdown",
      "metadata": {
        "id": "view-in-github",
        "colab_type": "text"
      },
      "source": [
        "<a href=\"https://colab.research.google.com/github/suin8606/Machine-Learning-in-90days/blob/main/Python_Exception_Handing.ipynb\" target=\"_parent\"><img src=\"https://colab.research.google.com/assets/colab-badge.svg\" alt=\"Open In Colab\"/></a>"
      ]
    },
    {
      "cell_type": "markdown",
      "source": [
        "# Exception Handling\n",
        "\n",
        "What's the difference between error and exception? "
      ],
      "metadata": {
        "id": "DkIMI1xmBfpc"
      }
    },
    {
      "cell_type": "code",
      "source": [
        "# a situation\n",
        "a=b"
      ],
      "metadata": {
        "colab": {
          "base_uri": "https://localhost:8080/",
          "height": 240
        },
        "id": "wwucBl5iBorS",
        "outputId": "4da63d7a-1cff-469e-d6e8-5abd72893945"
      },
      "execution_count": 1,
      "outputs": [
        {
          "output_type": "error",
          "ename": "NameError",
          "evalue": "ignored",
          "traceback": [
            "\u001b[0;31m---------------------------------------------------------------------------\u001b[0m",
            "\u001b[0;31mNameError\u001b[0m                                 Traceback (most recent call last)",
            "\u001b[0;32m<ipython-input-1-46a5961376bc>\u001b[0m in \u001b[0;36m<module>\u001b[0;34m\u001b[0m\n\u001b[1;32m      1\u001b[0m \u001b[0;31m# a situation\u001b[0m\u001b[0;34m\u001b[0m\u001b[0;34m\u001b[0m\u001b[0;34m\u001b[0m\u001b[0m\n\u001b[1;32m      2\u001b[0m \u001b[0;34m\u001b[0m\u001b[0m\n\u001b[0;32m----> 3\u001b[0;31m \u001b[0ma\u001b[0m\u001b[0;34m=\u001b[0m\u001b[0mb\u001b[0m\u001b[0;34m\u001b[0m\u001b[0;34m\u001b[0m\u001b[0m\n\u001b[0m",
            "\u001b[0;31mNameError\u001b[0m: name 'b' is not defined"
          ]
        }
      ]
    },
    {
      "cell_type": "markdown",
      "source": [
        "Of course, the code above gives an error. Whoever uses this software or app does not want to see this pure error. -- Exception will be very good way to explain the error that everyone can understand."
      ],
      "metadata": {
        "id": "m1eJcogyBvXK"
      }
    },
    {
      "cell_type": "code",
      "source": [
        "try:\n",
        "    ## code block where exception can occur\n",
        "    a=b\n",
        "except:\n",
        "    print(\"Some problems may have occured.\")"
      ],
      "metadata": {
        "colab": {
          "base_uri": "https://localhost:8080/"
        },
        "id": "SEe3Dls6BttL",
        "outputId": "f6b28324-22dc-4600-cbc4-2b36c41ceafe"
      },
      "execution_count": 2,
      "outputs": [
        {
          "output_type": "stream",
          "name": "stdout",
          "text": [
            "Some problems may have occured.\n"
          ]
        }
      ]
    },
    {
      "cell_type": "code",
      "source": [
        " try:\n",
        "   a=b\n",
        "except Exception as ex:\n",
        "    print(ex)"
      ],
      "metadata": {
        "colab": {
          "base_uri": "https://localhost:8080/"
        },
        "id": "0oLRvb4ECxbT",
        "outputId": "a6d1c0e6-c14b-4493-8af4-666a71c1c4d1"
      },
      "execution_count": 4,
      "outputs": [
        {
          "output_type": "stream",
          "name": "stdout",
          "text": [
            "name 'b' is not defined\n"
          ]
        }
      ]
    },
    {
      "cell_type": "markdown",
      "source": [
        "Moreover, the front users do not understand 'NameError' as above but I can also send the customized message;   "
      ],
      "metadata": {
        "id": "epG-mknFDfyQ"
      }
    },
    {
      "cell_type": "code",
      "source": [
        "try:\n",
        "    a=b\n",
        "except NameError:\n",
        "    print(\"The user have not defined the variable correctly\")"
      ],
      "metadata": {
        "colab": {
          "base_uri": "https://localhost:8080/"
        },
        "id": "7dYxn5vpD_oh",
        "outputId": "62eea998-56c9-4823-8958-b7677281c98d"
      },
      "execution_count": 6,
      "outputs": [
        {
          "output_type": "stream",
          "name": "stdout",
          "text": [
            "The user have not defined the variable correctly\n"
          ]
        }
      ]
    },
    {
      "cell_type": "code",
      "source": [
        "try:\n",
        "    a=1\n",
        "    b='s'\n",
        "    c=a+b\n",
        "except TypeError:\n",
        "    print(\"The user have not defined. Make the dataype correct\")"
      ],
      "metadata": {
        "colab": {
          "base_uri": "https://localhost:8080/"
        },
        "id": "dfFvH42xEL-I",
        "outputId": "fc8a47ff-0072-42c6-f57b-3ce809747cbb"
      },
      "execution_count": 8,
      "outputs": [
        {
          "output_type": "stream",
          "name": "stdout",
          "text": [
            "The user have not defined. Make the dataype correct\n"
          ]
        }
      ]
    },
    {
      "cell_type": "code",
      "source": [
        "try:\n",
        "    a=int(input(\"Enter the number 1\"))\n",
        "    b=int(input(\"Enter the number 2\"))\n",
        "    c=a/b\n",
        "    d=a*b\n",
        "    e=a**b\n",
        "    print(c)\n",
        "    print(d)\n",
        "    print(e)\n",
        "except TypeError:\n",
        "    print(\"The user have not defined. Make the dataype correct\")"
      ],
      "metadata": {
        "colab": {
          "base_uri": "https://localhost:8080/",
          "height": 312
        },
        "id": "MnEO1YDEE3yR",
        "outputId": "a6bbde8a-2b6e-4d3b-8987-50ea8f8dbb4b"
      },
      "execution_count": 10,
      "outputs": [
        {
          "name": "stdout",
          "output_type": "stream",
          "text": [
            "Enter the number 10\n",
            "Enter the number 20\n"
          ]
        },
        {
          "output_type": "error",
          "ename": "ZeroDivisionError",
          "evalue": "ignored",
          "traceback": [
            "\u001b[0;31m---------------------------------------------------------------------------\u001b[0m",
            "\u001b[0;31mZeroDivisionError\u001b[0m                         Traceback (most recent call last)",
            "\u001b[0;32m<ipython-input-10-c68560eba9bf>\u001b[0m in \u001b[0;36m<module>\u001b[0;34m\u001b[0m\n\u001b[1;32m      2\u001b[0m     \u001b[0ma\u001b[0m\u001b[0;34m=\u001b[0m\u001b[0mint\u001b[0m\u001b[0;34m(\u001b[0m\u001b[0minput\u001b[0m\u001b[0;34m(\u001b[0m\u001b[0;34m\"Enter the number 1\"\u001b[0m\u001b[0;34m)\u001b[0m\u001b[0;34m)\u001b[0m\u001b[0;34m\u001b[0m\u001b[0;34m\u001b[0m\u001b[0m\n\u001b[1;32m      3\u001b[0m     \u001b[0mb\u001b[0m\u001b[0;34m=\u001b[0m\u001b[0mint\u001b[0m\u001b[0;34m(\u001b[0m\u001b[0minput\u001b[0m\u001b[0;34m(\u001b[0m\u001b[0;34m\"Enter the number 2\"\u001b[0m\u001b[0;34m)\u001b[0m\u001b[0;34m)\u001b[0m\u001b[0;34m\u001b[0m\u001b[0;34m\u001b[0m\u001b[0m\n\u001b[0;32m----> 4\u001b[0;31m     \u001b[0mc\u001b[0m\u001b[0;34m=\u001b[0m\u001b[0ma\u001b[0m\u001b[0;34m/\u001b[0m\u001b[0mb\u001b[0m\u001b[0;34m\u001b[0m\u001b[0;34m\u001b[0m\u001b[0m\n\u001b[0m\u001b[1;32m      5\u001b[0m     \u001b[0md\u001b[0m\u001b[0;34m=\u001b[0m\u001b[0ma\u001b[0m\u001b[0;34m*\u001b[0m\u001b[0mb\u001b[0m\u001b[0;34m\u001b[0m\u001b[0;34m\u001b[0m\u001b[0m\n\u001b[1;32m      6\u001b[0m     \u001b[0me\u001b[0m\u001b[0;34m=\u001b[0m\u001b[0ma\u001b[0m\u001b[0;34m**\u001b[0m\u001b[0mb\u001b[0m\u001b[0;34m\u001b[0m\u001b[0;34m\u001b[0m\u001b[0m\n",
            "\u001b[0;31mZeroDivisionError\u001b[0m: division by zero"
          ]
        }
      ]
    },
    {
      "cell_type": "code",
      "source": [
        "try:\n",
        "    a=int(input(\"Enter the number 1\"))\n",
        "    b=int(input(\"Enter the number 2\"))\n",
        "    c=a/b\n",
        "    d=a*b\n",
        "    e=a**b\n",
        "    print(c)\n",
        "    print(d)\n",
        "    print(e)\n",
        "except ZeroDivisionError:\n",
        "    print(\"Do not divide by zero!\")"
      ],
      "metadata": {
        "colab": {
          "base_uri": "https://localhost:8080/"
        },
        "id": "cmW1f_GVFdzG",
        "outputId": "364b079d-9a87-4725-9185-974bc8af0378"
      },
      "execution_count": 11,
      "outputs": [
        {
          "output_type": "stream",
          "name": "stdout",
          "text": [
            "Enter the number 10\n",
            "Enter the number 20\n",
            "Do not divide by zero!.\n"
          ]
        }
      ]
    },
    {
      "cell_type": "code",
      "source": [
        "# Try - Else block\n",
        "try:\n",
        "    a=int(input(\"Enter the number 1 \"))\n",
        "    b=int(input(\"Enter the number 2 \"))\n",
        "    c=a/b\n",
        "    d=a*b\n",
        "    e=a**b\n",
        "    print(c)\n",
        "    print(d)\n",
        "    print(e)\n",
        "except ZeroDivisionError:\n",
        "    print(\"Do not divide by zero!\")\n",
        "else:\n",
        "    print(c)\n",
        "    print(d)\n",
        "    print(e)"
      ],
      "metadata": {
        "colab": {
          "base_uri": "https://localhost:8080/"
        },
        "id": "DwAVymj8Flh5",
        "outputId": "d186bfad-277f-402c-cf14-b8dc90e5fc31"
      },
      "execution_count": 13,
      "outputs": [
        {
          "output_type": "stream",
          "name": "stdout",
          "text": [
            "Enter the number 1 8\n",
            "Enter the number 2 2\n",
            "4.0\n",
            "16\n",
            "64\n",
            "4.0\n",
            "16\n",
            "64\n"
          ]
        }
      ]
    },
    {
      "cell_type": "code",
      "source": [
        "# Try - Else block\n",
        "try:\n",
        "    a=int(input(\"Enter the number 1 \"))\n",
        "    b=int(input(\"Enter the number 2 \"))\n",
        "    c=a/b\n",
        "    d=a*b\n",
        "    e=a**b\n",
        "    print(c)\n",
        "    print(d)\n",
        "    print(e)\n",
        "except ZeroDivisionError:\n",
        "    print(\"Please provide number greater than 0\")\n",
        "except NameError:\n",
        "    print(\"The user have not defined the variable correctly\")\n",
        "except TypeError:\n",
        "    print(\"The user have not defined. Make the dataype correct\")\n",
        "except Exception as ex:\n",
        "    print(ex)\n",
        "else:\n",
        "    print(c)\n",
        "    print(d)\n",
        "    print(e)\n",
        "finally: \n",
        "    print(\"The execution is done!\")"
      ],
      "metadata": {
        "colab": {
          "base_uri": "https://localhost:8080/"
        },
        "id": "_Tr-91plHASz",
        "outputId": "c185c1ef-2ea7-44c9-9113-66e80c919da9"
      },
      "execution_count": 15,
      "outputs": [
        {
          "output_type": "stream",
          "name": "stdout",
          "text": [
            "Enter the number 1 2\n",
            "Enter the number 2 0\n",
            "Please provide number greater than 0\n",
            "The execution is done!\n"
          ]
        }
      ]
    }
  ]
}