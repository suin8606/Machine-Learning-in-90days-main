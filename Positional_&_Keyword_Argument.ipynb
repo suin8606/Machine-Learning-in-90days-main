{
  "nbformat": 4,
  "nbformat_minor": 0,
  "metadata": {
    "colab": {
      "name": "Positional & Keyword Argument.ipynb",
      "provenance": [],
      "authorship_tag": "ABX9TyMxTpqAbraPeuLuBZ8+IKR1",
      "include_colab_link": true
    },
    "kernelspec": {
      "name": "python3",
      "display_name": "Python 3"
    },
    "language_info": {
      "name": "python"
    }
  },
  "cells": [
    {
      "cell_type": "markdown",
      "metadata": {
        "id": "view-in-github",
        "colab_type": "text"
      },
      "source": [
        "<a href=\"https://colab.research.google.com/github/suin8606/Machine-Learning-in-90days/blob/main/Positional_%26_Keyword_Argument.ipynb\" target=\"_parent\"><img src=\"https://colab.research.google.com/assets/colab-badge.svg\" alt=\"Open In Colab\"/></a>"
      ]
    },
    {
      "cell_type": "markdown",
      "source": [
        "# For, If,Functions\n",
        "\n",
        "Functions in Python. A function is a set of statements that take inputs, do some specific computation and produces output. These functions are called user defined function"
      ],
      "metadata": {
        "id": "DFWcjVskGBKw"
      }
    },
    {
      "cell_type": "code",
      "source": [
        "def hello(*args, **kwargs):\n",
        "    print(args)\n",
        "    print(kwargs)"
      ],
      "metadata": {
        "id": "zNxapwG1HNg4"
      },
      "execution_count": 3,
      "outputs": []
    },
    {
      "cell_type": "code",
      "source": [
        "hello(\"Suin\",\"Kim\",age=30,dob=1991)"
      ],
      "metadata": {
        "colab": {
          "base_uri": "https://localhost:8080/"
        },
        "id": "hBHONQuhHcld",
        "outputId": "7bee8daf-e288-4ee5-f7ca-e271f812dd56"
      },
      "execution_count": 4,
      "outputs": [
        {
          "output_type": "stream",
          "name": "stdout",
          "text": [
            "('Suin', 'Kim')\n",
            "{'age': 30, 'dob': 1991}\n"
          ]
        }
      ]
    },
    {
      "cell_type": "code",
      "source": [
        "lst=[\"Suin\",\"Kim\"]\n",
        "dict_args={\"age\":30,'dob':1991}"
      ],
      "metadata": {
        "id": "BZya8ylqHmZ1"
      },
      "execution_count": 6,
      "outputs": []
    },
    {
      "cell_type": "code",
      "source": [
        "hello(lst,dict_args) #wrong output as you see all brackets come out "
      ],
      "metadata": {
        "colab": {
          "base_uri": "https://localhost:8080/"
        },
        "id": "zY_lExYRH85r",
        "outputId": "97346fc4-d3d2-47c5-e700-42b3309dfb84"
      },
      "execution_count": 9,
      "outputs": [
        {
          "output_type": "stream",
          "name": "stdout",
          "text": [
            "(['Suin', 'Kim'], {'age': 30, 'dob': 1991})\n",
            "{}\n"
          ]
        }
      ]
    },
    {
      "cell_type": "code",
      "source": [
        "hello(*lst,**dict_args) # correct way to execute"
      ],
      "metadata": {
        "colab": {
          "base_uri": "https://localhost:8080/"
        },
        "id": "3jvx-hEHIMus",
        "outputId": "b3c2f902-95f0-49b9-cb5d-057aac90308b"
      },
      "execution_count": 10,
      "outputs": [
        {
          "output_type": "stream",
          "name": "stdout",
          "text": [
            "('Suin', 'Kim')\n",
            "{'age': 30, 'dob': 1991}\n"
          ]
        }
      ]
    },
    {
      "cell_type": "code",
      "source": [
        "lst=[1,2,3,4,5,6,7,8,9]\n",
        "def even_sum(lst):\n",
        "    even_sum=0\n",
        "    odd_sum=0\n",
        "    for i in lst:\n",
        "        if i%2==0:\n",
        "            even_sum=even_sum+i\n",
        "        else:\n",
        "            odd_sum=odd_sum+i\n",
        "    return even_sum,odd_sum\n",
        "even_sum(lst)\n"
      ],
      "metadata": {
        "colab": {
          "base_uri": "https://localhost:8080/"
        },
        "id": "f2drwbIoIjAf",
        "outputId": "2bc91a6d-9796-4ae2-9bdb-d40e7405a74e"
      },
      "execution_count": 12,
      "outputs": [
        {
          "output_type": "execute_result",
          "data": {
            "text/plain": [
              "(20, 25)"
            ]
          },
          "metadata": {},
          "execution_count": 12
        }
      ]
    }
  ]
}