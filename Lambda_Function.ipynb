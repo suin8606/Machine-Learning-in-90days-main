{
  "nbformat": 4,
  "nbformat_minor": 0,
  "metadata": {
    "colab": {
      "name": "Lambda Function.ipynb",
      "provenance": [],
      "authorship_tag": "ABX9TyNc3+D0hajND1AbXT1ME6fy",
      "include_colab_link": true
    },
    "kernelspec": {
      "name": "python3",
      "display_name": "Python 3"
    },
    "language_info": {
      "name": "python"
    }
  },
  "cells": [
    {
      "cell_type": "markdown",
      "metadata": {
        "id": "view-in-github",
        "colab_type": "text"
      },
      "source": [
        "<a href=\"https://colab.research.google.com/github/suin8606/Machine-Learning-in-90days/blob/main/Lambda_Function.ipynb\" target=\"_parent\"><img src=\"https://colab.research.google.com/assets/colab-badge.svg\" alt=\"Open In Colab\"/></a>"
      ]
    },
    {
      "cell_type": "markdown",
      "source": [
        "#Lambda Fucntion\n",
        "A function but with no name!"
      ],
      "metadata": {
        "id": "C8Iuk1PzKqpw"
      }
    },
    {
      "cell_type": "code",
      "source": [
        "def test(a,b):\n",
        "    return a+b\n",
        "test(1,9)"
      ],
      "metadata": {
        "colab": {
          "base_uri": "https://localhost:8080/"
        },
        "id": "jD7SaY_DKznt",
        "outputId": "a5c66763-bcab-4e03-f50c-e3ee8f374be4"
      },
      "execution_count": 1,
      "outputs": [
        {
          "output_type": "execute_result",
          "data": {
            "text/plain": [
              "10"
            ]
          },
          "metadata": {},
          "execution_count": 1
        }
      ]
    },
    {
      "cell_type": "markdown",
      "source": [
        "What if there is easier way to execute with no addtional code and run faster?! -- Lambda!"
      ],
      "metadata": {
        "id": "nAwX8runLKuH"
      }
    },
    {
      "cell_type": "code",
      "source": [
        "test=lambda x,y:x+y \n",
        "test(1,9) "
      ],
      "metadata": {
        "colab": {
          "base_uri": "https://localhost:8080/"
        },
        "id": "OcL9jfPwK8HN",
        "outputId": "e708f1b4-c5df-4843-fed0-9d0a2fae46fe"
      },
      "execution_count": 2,
      "outputs": [
        {
          "output_type": "execute_result",
          "data": {
            "text/plain": [
              "10"
            ]
          },
          "metadata": {},
          "execution_count": 2
        }
      ]
    },
    {
      "cell_type": "markdown",
      "source": [
        "Lambda function only works on condition; when there is only one expression such as return a+b in as above."
      ],
      "metadata": {
        "id": "VMNS41xcLn2R"
      }
    },
    {
      "cell_type": "code",
      "source": [
        "def test2(x):\n",
        "    if x%2==0:\n",
        "        return True\n",
        "test2(20)"
      ],
      "metadata": {
        "colab": {
          "base_uri": "https://localhost:8080/"
        },
        "id": "j_u5BxnjL70H",
        "outputId": "26b52edf-f4c6-4b7c-b450-435293c1e943"
      },
      "execution_count": 3,
      "outputs": [
        {
          "output_type": "execute_result",
          "data": {
            "text/plain": [
              "True"
            ]
          },
          "metadata": {},
          "execution_count": 3
        }
      ]
    },
    {
      "cell_type": "code",
      "source": [
        "even=lambda x: x%2==0\n",
        "even(8)"
      ],
      "metadata": {
        "colab": {
          "base_uri": "https://localhost:8080/"
        },
        "id": "fzMJpW-fMKSr",
        "outputId": "8d63fcab-6c79-469e-9382-0bd01539393e"
      },
      "execution_count": 4,
      "outputs": [
        {
          "output_type": "execute_result",
          "data": {
            "text/plain": [
              "True"
            ]
          },
          "metadata": {},
          "execution_count": 4
        }
      ]
    },
    {
      "cell_type": "code",
      "source": [
        "even(5)"
      ],
      "metadata": {
        "colab": {
          "base_uri": "https://localhost:8080/"
        },
        "id": "0yAs9oXPMQVp",
        "outputId": "f8b21f22-12c5-4b4a-c8a7-aa86ed71181a"
      },
      "execution_count": 6,
      "outputs": [
        {
          "output_type": "execute_result",
          "data": {
            "text/plain": [
              "False"
            ]
          },
          "metadata": {},
          "execution_count": 6
        }
      ]
    }
  ]
}