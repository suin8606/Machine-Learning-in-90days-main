{
  "nbformat": 4,
  "nbformat_minor": 0,
  "metadata": {
    "colab": {
      "name": "Map & Filter function.ipynb",
      "provenance": [],
      "authorship_tag": "ABX9TyPIBhudjzKVZnER+nDQhVAq",
      "include_colab_link": true
    },
    "kernelspec": {
      "name": "python3",
      "display_name": "Python 3"
    },
    "language_info": {
      "name": "python"
    }
  },
  "cells": [
    {
      "cell_type": "markdown",
      "metadata": {
        "id": "view-in-github",
        "colab_type": "text"
      },
      "source": [
        "<a href=\"https://colab.research.google.com/github/suin8606/Machine-Learning-in-90days/blob/main/Map_%26_Filter_function.ipynb\" target=\"_parent\"><img src=\"https://colab.research.google.com/assets/colab-badge.svg\" alt=\"Open In Colab\"/></a>"
      ]
    },
    {
      "cell_type": "code",
      "execution_count": 1,
      "metadata": {
        "colab": {
          "base_uri": "https://localhost:8080/",
          "height": 35
        },
        "id": "jjWh4_HHRAuU",
        "outputId": "7287378a-ef93-4bcf-c607-4a39b09d7021"
      },
      "outputs": [
        {
          "output_type": "execute_result",
          "data": {
            "text/plain": [
              "'this 24 is even.'"
            ],
            "application/vnd.google.colaboratory.intrinsic+json": {
              "type": "string"
            }
          },
          "metadata": {},
          "execution_count": 1
        }
      ],
      "source": [
        "def even_or_add(x):\n",
        "    if x%2==0:\n",
        "        return \"this {} is even.\".format(x)\n",
        "    else:\n",
        "        return \"this {} is odd.\".format(x)\n",
        "\n",
        "even_or_add(24)\n",
        "\n"
      ]
    },
    {
      "cell_type": "markdown",
      "source": [
        "But what if there are many lists to literate? it will takes a lot of time to execute. - Map funcion can help!"
      ],
      "metadata": {
        "id": "3goj1NYgRpfC"
      }
    },
    {
      "cell_type": "code",
      "source": [
        "lst=[1,2,3,4,5,6,7,8,9,10,11,12,123,14,15,16,17,18,199]"
      ],
      "metadata": {
        "id": "ySGZ-oLkRaXF"
      },
      "execution_count": 3,
      "outputs": []
    },
    {
      "cell_type": "code",
      "source": [
        "map(even_or_add,lst) # memory has not been instantiated yet. Therefore, you won' see any ouput."
      ],
      "metadata": {
        "colab": {
          "base_uri": "https://localhost:8080/"
        },
        "id": "G6eR1mVtR7W1",
        "outputId": "eaf3d1a7-829c-47d9-fa71-7505efd22771"
      },
      "execution_count": 6,
      "outputs": [
        {
          "output_type": "execute_result",
          "data": {
            "text/plain": [
              "<map at 0x7f034270a550>"
            ]
          },
          "metadata": {},
          "execution_count": 6
        }
      ]
    },
    {
      "cell_type": "code",
      "source": [
        "list(map(even_or_add,lst))"
      ],
      "metadata": {
        "colab": {
          "base_uri": "https://localhost:8080/"
        },
        "id": "F9dGpmwCSAnA",
        "outputId": "af4157af-7b14-47fc-dd5f-03e6d9d81ab6"
      },
      "execution_count": 7,
      "outputs": [
        {
          "output_type": "execute_result",
          "data": {
            "text/plain": [
              "['this 1 is odd.',\n",
              " 'this 2 is even.',\n",
              " 'this 3 is odd.',\n",
              " 'this 4 is even.',\n",
              " 'this 5 is odd.',\n",
              " 'this 6 is even.',\n",
              " 'this 7 is odd.',\n",
              " 'this 8 is even.',\n",
              " 'this 9 is odd.',\n",
              " 'this 10 is even.',\n",
              " 'this 11 is odd.',\n",
              " 'this 12 is even.',\n",
              " 'this 123 is odd.',\n",
              " 'this 14 is even.',\n",
              " 'this 15 is odd.',\n",
              " 'this 16 is even.',\n",
              " 'this 17 is odd.',\n",
              " 'this 18 is even.',\n",
              " 'this 199 is odd.']"
            ]
          },
          "metadata": {},
          "execution_count": 7
        }
      ]
    },
    {
      "cell_type": "markdown",
      "source": [
        "# Filter function"
      ],
      "metadata": {
        "id": "AXg9wHg2TMQO"
      }
    },
    {
      "cell_type": "code",
      "source": [
        "def even(x):\n",
        "    if x%2==0:\n",
        "        return True\n",
        "lst=[1,2,3,4,5,6,7,8,9,0]\n",
        "filter(even,lst) \n",
        "# as well as map function, memory has not been instantiated."
      ],
      "metadata": {
        "colab": {
          "base_uri": "https://localhost:8080/"
        },
        "id": "_CcdFaZCTPBR",
        "outputId": "62493ca6-0e76-4cd5-ff97-6019db592661"
      },
      "execution_count": 10,
      "outputs": [
        {
          "output_type": "execute_result",
          "data": {
            "text/plain": [
              "<filter at 0x7f033ae69cd0>"
            ]
          },
          "metadata": {},
          "execution_count": 10
        }
      ]
    },
    {
      "cell_type": "code",
      "source": [
        "list(filter(even,lst))"
      ],
      "metadata": {
        "colab": {
          "base_uri": "https://localhost:8080/"
        },
        "id": "NoLjL7JiSDTJ",
        "outputId": "0ed50a21-68f3-4836-f8b5-bc0d38b64fc4"
      },
      "execution_count": 11,
      "outputs": [
        {
          "output_type": "execute_result",
          "data": {
            "text/plain": [
              "[2, 4, 6, 8, 0]"
            ]
          },
          "metadata": {},
          "execution_count": 11
        }
      ]
    },
    {
      "cell_type": "markdown",
      "source": [
        "Since there is only one expression, you can make the same output with lambda function."
      ],
      "metadata": {
        "id": "gS6sV83bUI3d"
      }
    },
    {
      "cell_type": "code",
      "source": [
        "filter(lambda x: x%2==0,lst)"
      ],
      "metadata": {
        "colab": {
          "base_uri": "https://localhost:8080/"
        },
        "id": "uVnZkQM5T85S",
        "outputId": "48bee47a-6fad-4ca8-e2fa-0a245c3a5f15"
      },
      "execution_count": 12,
      "outputs": [
        {
          "output_type": "execute_result",
          "data": {
            "text/plain": [
              "<filter at 0x7f033ae888d0>"
            ]
          },
          "metadata": {},
          "execution_count": 12
        }
      ]
    },
    {
      "cell_type": "markdown",
      "source": [
        "A major difference between filter and map functions - see output as below"
      ],
      "metadata": {
        "id": "u1wlhIT4UrQR"
      }
    },
    {
      "cell_type": "code",
      "source": [
        "list(filter(lambda x: x%2==0,lst))"
      ],
      "metadata": {
        "colab": {
          "base_uri": "https://localhost:8080/"
        },
        "id": "XEi3e95GUC6L",
        "outputId": "5a4cee29-7794-43f5-ac57-bf5b56df1f1b"
      },
      "execution_count": 16,
      "outputs": [
        {
          "output_type": "execute_result",
          "data": {
            "text/plain": [
              "[2, 4, 6, 8, 0]"
            ]
          },
          "metadata": {},
          "execution_count": 16
        }
      ]
    },
    {
      "cell_type": "code",
      "source": [
        "list(map(lambda x:x%2==0,lst))"
      ],
      "metadata": {
        "colab": {
          "base_uri": "https://localhost:8080/"
        },
        "id": "P6kWm_xHUpC2",
        "outputId": "5c0fd91c-4177-4e82-a598-c4b54cf577e5"
      },
      "execution_count": 17,
      "outputs": [
        {
          "output_type": "execute_result",
          "data": {
            "text/plain": [
              "[False, True, False, True, False, True, False, True, False, True]"
            ]
          },
          "metadata": {},
          "execution_count": 17
        }
      ]
    }
  ]
}