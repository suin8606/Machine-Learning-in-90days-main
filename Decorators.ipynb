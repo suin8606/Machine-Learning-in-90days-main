{
  "nbformat": 4,
  "nbformat_minor": 0,
  "metadata": {
    "colab": {
      "provenance": [],
      "authorship_tag": "ABX9TyNHLL6inKBa+E7hNR9w4d5y",
      "include_colab_link": true
    },
    "kernelspec": {
      "name": "python3",
      "display_name": "Python 3"
    },
    "language_info": {
      "name": "python"
    }
  },
  "cells": [
    {
      "cell_type": "markdown",
      "metadata": {
        "id": "view-in-github",
        "colab_type": "text"
      },
      "source": [
        "<a href=\"https://colab.research.google.com/github/suin8606/Machine-Learning-in-90days/blob/main/Decorators.ipynb\" target=\"_parent\"><img src=\"https://colab.research.google.com/assets/colab-badge.svg\" alt=\"Open In Colab\"/></a>"
      ]
    },
    {
      "cell_type": "markdown",
      "source": [
        "# Python Decorators"
      ],
      "metadata": {
        "id": "VFMLO_5qh5Pd"
      }
    },
    {
      "cell_type": "markdown",
      "source": [
        "2 things to know before decorators\n",
        " 1. function copy\n",
        " 2. closures"
      ],
      "metadata": {
        "id": "T2rl2m1OiN21"
      }
    },
    {
      "cell_type": "markdown",
      "source": [
        "# Function copy "
      ],
      "metadata": {
        "id": "4w4fPLvJk_3h"
      }
    },
    {
      "cell_type": "code",
      "source": [
        "def Welcome():\n",
        "    print(\"hello world\")\n",
        "Welcome()"
      ],
      "metadata": {
        "colab": {
          "base_uri": "https://localhost:8080/"
        },
        "id": "jKKB1hGjiRoJ",
        "outputId": "cbec2606-0199-41a4-cce5-0ae22590784c"
      },
      "execution_count": 3,
      "outputs": [
        {
          "output_type": "stream",
          "name": "stdout",
          "text": [
            "hello world\n"
          ]
        }
      ]
    },
    {
      "cell_type": "markdown",
      "source": [
        "The output shows sucessfully but if you make a variable as Wel and excutes it gives nothing: "
      ],
      "metadata": {
        "id": "1BfG2hP8jJXr"
      }
    },
    {
      "cell_type": "code",
      "source": [
        "wel=Welcome()\n",
        "print(wel)"
      ],
      "metadata": {
        "colab": {
          "base_uri": "https://localhost:8080/"
        },
        "id": "h3_pG3Q0iZTH",
        "outputId": "5aa6117c-ff6c-4976-d9ad-9d14ad11f0f2"
      },
      "execution_count": 8,
      "outputs": [
        {
          "output_type": "stream",
          "name": "stdout",
          "text": [
            "hello world\n",
            "None\n"
          ]
        }
      ]
    },
    {
      "cell_type": "markdown",
      "source": [
        "Therefore, you execute it with return and shows output"
      ],
      "metadata": {
        "id": "7ppEh59rjn4W"
      }
    },
    {
      "cell_type": "code",
      "source": [
        "def Welcome():\n",
        "  return \"it works\""
      ],
      "metadata": {
        "id": "RZAQIjBsjmf5"
      },
      "execution_count": 11,
      "outputs": []
    },
    {
      "cell_type": "code",
      "source": [
        "wel=Welcome()"
      ],
      "metadata": {
        "id": "fX90bB-0j_at"
      },
      "execution_count": 12,
      "outputs": []
    },
    {
      "cell_type": "code",
      "source": [
        "wel"
      ],
      "metadata": {
        "colab": {
          "base_uri": "https://localhost:8080/",
          "height": 35
        },
        "id": "m2NrqZmJkGoE",
        "outputId": "5932c67a-ccbd-4f0e-e0ae-b466bb575878"
      },
      "execution_count": 13,
      "outputs": [
        {
          "output_type": "execute_result",
          "data": {
            "text/plain": [
              "'it works'"
            ],
            "application/vnd.google.colaboratory.intrinsic+json": {
              "type": "string"
            }
          },
          "metadata": {},
          "execution_count": 13
        }
      ]
    },
    {
      "cell_type": "markdown",
      "source": [
        " Now let's delete function name, Welcome and see what output the variable, wel will show"
      ],
      "metadata": {
        "id": "PnjOA9QekZTY"
      }
    },
    {
      "cell_type": "code",
      "source": [
        "del Welcome"
      ],
      "metadata": {
        "id": "GL5aY7eMkyJf"
      },
      "execution_count": 14,
      "outputs": []
    },
    {
      "cell_type": "code",
      "source": [
        "wel"
      ],
      "metadata": {
        "colab": {
          "base_uri": "https://localhost:8080/",
          "height": 35
        },
        "id": "Ni9DYIJVk0qy",
        "outputId": "b7cb0133-4a51-4d34-ae11-df795049104a"
      },
      "execution_count": 15,
      "outputs": [
        {
          "output_type": "execute_result",
          "data": {
            "text/plain": [
              "'it works'"
            ],
            "application/vnd.google.colaboratory.intrinsic+json": {
              "type": "string"
            }
          },
          "metadata": {},
          "execution_count": 15
        }
      ]
    },
    {
      "cell_type": "markdown",
      "source": [
        "#Closures"
      ],
      "metadata": {
        "id": "m-HNSfZZlIDb"
      }
    },
    {
      "cell_type": "code",
      "source": [
        "def main():\n",
        "    x='hello everyone'\n",
        "    def sub():\n",
        "        print('hello world again')\n",
        "        print(x)\n",
        "        print('good bye')\n",
        "    return main()"
      ],
      "metadata": {
        "id": "1jqb-I-JlCUJ"
      },
      "execution_count": 20,
      "outputs": []
    },
    {
      "cell_type": "code",
      "source": [
        "main()"
      ],
      "metadata": {
        "colab": {
          "base_uri": "https://localhost:8080/",
          "height": 318
        },
        "id": "dqt_5tjElpW9",
        "outputId": "7672c92e-8f80-4172-cf14-7341c99219cf"
      },
      "execution_count": 21,
      "outputs": [
        {
          "output_type": "error",
          "ename": "RecursionError",
          "evalue": "ignored",
          "traceback": [
            "\u001b[0;31m---------------------------------------------------------------------------\u001b[0m",
            "\u001b[0;31mRecursionError\u001b[0m                            Traceback (most recent call last)",
            "\u001b[0;32m<ipython-input-21-263240bbee7e>\u001b[0m in \u001b[0;36m<module>\u001b[0;34m\u001b[0m\n\u001b[0;32m----> 1\u001b[0;31m \u001b[0mmain\u001b[0m\u001b[0;34m(\u001b[0m\u001b[0;34m)\u001b[0m\u001b[0;34m\u001b[0m\u001b[0;34m\u001b[0m\u001b[0m\n\u001b[0m",
            "\u001b[0;32m<ipython-input-20-56916fa8f2dc>\u001b[0m in \u001b[0;36mmain\u001b[0;34m()\u001b[0m\n\u001b[1;32m      5\u001b[0m         \u001b[0mprint\u001b[0m\u001b[0;34m(\u001b[0m\u001b[0mx\u001b[0m\u001b[0;34m)\u001b[0m\u001b[0;34m\u001b[0m\u001b[0;34m\u001b[0m\u001b[0m\n\u001b[1;32m      6\u001b[0m         \u001b[0mprint\u001b[0m\u001b[0;34m(\u001b[0m\u001b[0;34m'good bye'\u001b[0m\u001b[0;34m)\u001b[0m\u001b[0;34m\u001b[0m\u001b[0;34m\u001b[0m\u001b[0m\n\u001b[0;32m----> 7\u001b[0;31m     \u001b[0;32mreturn\u001b[0m \u001b[0mmain\u001b[0m\u001b[0;34m(\u001b[0m\u001b[0;34m)\u001b[0m\u001b[0;34m\u001b[0m\u001b[0;34m\u001b[0m\u001b[0m\n\u001b[0m",
            "... last 1 frames repeated, from the frame below ...\n",
            "\u001b[0;32m<ipython-input-20-56916fa8f2dc>\u001b[0m in \u001b[0;36mmain\u001b[0;34m()\u001b[0m\n\u001b[1;32m      5\u001b[0m         \u001b[0mprint\u001b[0m\u001b[0;34m(\u001b[0m\u001b[0mx\u001b[0m\u001b[0;34m)\u001b[0m\u001b[0;34m\u001b[0m\u001b[0;34m\u001b[0m\u001b[0m\n\u001b[1;32m      6\u001b[0m         \u001b[0mprint\u001b[0m\u001b[0;34m(\u001b[0m\u001b[0;34m'good bye'\u001b[0m\u001b[0;34m)\u001b[0m\u001b[0;34m\u001b[0m\u001b[0;34m\u001b[0m\u001b[0m\n\u001b[0;32m----> 7\u001b[0;31m     \u001b[0;32mreturn\u001b[0m \u001b[0mmain\u001b[0m\u001b[0;34m(\u001b[0m\u001b[0;34m)\u001b[0m\u001b[0;34m\u001b[0m\u001b[0;34m\u001b[0m\u001b[0m\n\u001b[0m",
            "\u001b[0;31mRecursionError\u001b[0m: maximum recursion depth exceeded"
          ]
        }
      ]
    },
    {
      "cell_type": "markdown",
      "source": [
        "It gives an error. However, when you return the function name, sub()"
      ],
      "metadata": {
        "id": "uqUF2Ctzl8LA"
      }
    },
    {
      "cell_type": "code",
      "source": [
        "def main():\n",
        "    x='hello everyone'\n",
        "    def sub():\n",
        "        print('hello world again')\n",
        "        print(x)\n",
        "        print('good bye')\n",
        "    return sub()"
      ],
      "metadata": {
        "id": "LgoWfqr1l7FT"
      },
      "execution_count": 22,
      "outputs": []
    },
    {
      "cell_type": "code",
      "source": [
        "main()"
      ],
      "metadata": {
        "colab": {
          "base_uri": "https://localhost:8080/"
        },
        "id": "tbCK2xnjmGfz",
        "outputId": "31dde9f9-6efb-419d-c015-279a6f6a01c7"
      },
      "execution_count": 23,
      "outputs": [
        {
          "output_type": "stream",
          "name": "stdout",
          "text": [
            "hello world again\n",
            "hello everyone\n",
            "good bye\n"
          ]
        }
      ]
    },
    {
      "cell_type": "code",
      "source": [
        "def main(x):\n",
        "    def sub():\n",
        "        print('hello world again')\n",
        "        print(x)\n",
        "        print('good bye')\n",
        "    return sub()"
      ],
      "metadata": {
        "id": "ly3F5iYzmTWh"
      },
      "execution_count": 24,
      "outputs": []
    },
    {
      "cell_type": "code",
      "source": [
        "main(\"hello everyone\")"
      ],
      "metadata": {
        "colab": {
          "base_uri": "https://localhost:8080/"
        },
        "id": "2AA9j-o6mcXP",
        "outputId": "0bac3804-f51b-41bb-e96f-e18e36eaacb7"
      },
      "execution_count": 26,
      "outputs": [
        {
          "output_type": "stream",
          "name": "stdout",
          "text": [
            "hello world again\n",
            "hello everyone\n",
            "good bye\n"
          ]
        }
      ]
    },
    {
      "cell_type": "code",
      "source": [
        "# Closures & Initial Decorators\n",
        "def main(func):\n",
        "    def sub():\n",
        "        print(\"Welcome\")\n",
        "        func('To Anfield')\n",
        "        print(\"Bye\")\n",
        "    return sub()"
      ],
      "metadata": {
        "id": "CDJ9jO6fndGq"
      },
      "execution_count": 29,
      "outputs": []
    },
    {
      "cell_type": "code",
      "source": [
        "main(print)"
      ],
      "metadata": {
        "colab": {
          "base_uri": "https://localhost:8080/"
        },
        "id": "gyEaiEnPn3R0",
        "outputId": "eeaae0c8-e9f8-438a-a3ca-11dd84f989ab"
      },
      "execution_count": 30,
      "outputs": [
        {
          "output_type": "stream",
          "name": "stdout",
          "text": [
            "Welcome\n",
            "To Anfield\n",
            "Bye\n"
          ]
        }
      ]
    },
    {
      "cell_type": "code",
      "source": [
        "def main(func):\n",
        "    def sub():\n",
        "        print('HI')\n",
        "        print(func([1,2,3,4,5]))\n",
        "        print('BYE')\n",
        "    return sub()"
      ],
      "metadata": {
        "id": "3sf02zgBoBij"
      },
      "execution_count": 47,
      "outputs": []
    },
    {
      "cell_type": "code",
      "source": [
        "main(len)"
      ],
      "metadata": {
        "colab": {
          "base_uri": "https://localhost:8080/"
        },
        "id": "tVuF_1j1oavg",
        "outputId": "bd8468ec-2dab-419a-906d-7bf8124c6921"
      },
      "execution_count": 48,
      "outputs": [
        {
          "output_type": "stream",
          "name": "stdout",
          "text": [
            "HI\n",
            "5\n",
            "BYE\n"
          ]
        }
      ]
    },
    {
      "cell_type": "markdown",
      "source": [
        "#Decorators"
      ],
      "metadata": {
        "id": "WJBkM76TusE1"
      }
    },
    {
      "cell_type": "code",
      "source": [
        "def main():\n",
        "    def sub():\n",
        "        print(\"a\")\n",
        "        print(\"b\")\n",
        "    return sub()"
      ],
      "metadata": {
        "id": "p1Ixg8OSo0lr"
      },
      "execution_count": 50,
      "outputs": []
    },
    {
      "cell_type": "code",
      "source": [
        "main()"
      ],
      "metadata": {
        "colab": {
          "base_uri": "https://localhost:8080/"
        },
        "id": "mJnm_mhFu22Z",
        "outputId": "c382603e-5cc7-4a8b-a99e-a322af4ce8b8"
      },
      "execution_count": 51,
      "outputs": [
        {
          "output_type": "stream",
          "name": "stdout",
          "text": [
            "a\n",
            "b\n"
          ]
        }
      ]
    },
    {
      "cell_type": "code",
      "source": [
        "def main(func):\n",
        "    def sub():\n",
        "        print(\"a\")\n",
        "        print(\"b\")\n",
        "        func(\"c\")\n",
        "    return sub()"
      ],
      "metadata": {
        "id": "xm1Z54qsu8r7"
      },
      "execution_count": 64,
      "outputs": []
    },
    {
      "cell_type": "code",
      "source": [
        "main(print)"
      ],
      "metadata": {
        "colab": {
          "base_uri": "https://localhost:8080/"
        },
        "id": "tsru1674vB2W",
        "outputId": "715a05b2-8926-42a3-9399-7931a6e5346a"
      },
      "execution_count": 65,
      "outputs": [
        {
          "output_type": "stream",
          "name": "stdout",
          "text": [
            "a\n",
            "b\n",
            "c\n"
          ]
        }
      ]
    },
    {
      "cell_type": "code",
      "source": [
        "def main(func):\n",
        "    def sub():\n",
        "        print(\"a\")\n",
        "        print(\"b\")\n",
        "        func()\n",
        "    return sub()"
      ],
      "metadata": {
        "id": "Ifq3v9g0vYmC"
      },
      "execution_count": 66,
      "outputs": []
    },
    {
      "cell_type": "code",
      "source": [
        "@main\n",
        "def final():\n",
        "    print(\"func is c\")"
      ],
      "metadata": {
        "colab": {
          "base_uri": "https://localhost:8080/"
        },
        "id": "bMGsp0VVvadc",
        "outputId": "cbd288f9-b76d-438e-d43a-deb7b009df44"
      },
      "execution_count": 67,
      "outputs": [
        {
          "output_type": "stream",
          "name": "stdout",
          "text": [
            "a\n",
            "b\n",
            "func is c\n"
          ]
        }
      ]
    }
  ]
}