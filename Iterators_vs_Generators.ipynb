{
  "nbformat": 4,
  "nbformat_minor": 0,
  "metadata": {
    "colab": {
      "provenance": [],
      "authorship_tag": "ABX9TyONGTH7bFBXGcpDn971euzr",
      "include_colab_link": true
    },
    "kernelspec": {
      "name": "python3",
      "display_name": "Python 3"
    },
    "language_info": {
      "name": "python"
    }
  },
  "cells": [
    {
      "cell_type": "markdown",
      "metadata": {
        "id": "view-in-github",
        "colab_type": "text"
      },
      "source": [
        "<a href=\"https://colab.research.google.com/github/suin8606/Machine-Learning-in-90days/blob/main/Iterators_vs_Generators.ipynb\" target=\"_parent\"><img src=\"https://colab.research.google.com/assets/colab-badge.svg\" alt=\"Open In Colab\"/></a>"
      ]
    },
    {
      "cell_type": "markdown",
      "source": [
        "# Iterators vs Generator"
      ],
      "metadata": {
        "id": "XvJYsVLifjWR"
      }
    },
    {
      "cell_type": "code",
      "source": [
        "# Iterable\n",
        "lst=[1,2,3,4]\n",
        "for i in lst:\n",
        "    print(i)"
      ],
      "metadata": {
        "colab": {
          "base_uri": "https://localhost:8080/"
        },
        "id": "HhqlK42gfqKU",
        "outputId": "c0589310-4367-4cbb-f9e7-5deb9a6ebb59"
      },
      "execution_count": 1,
      "outputs": [
        {
          "output_type": "stream",
          "name": "stdout",
          "text": [
            "1\n",
            "2\n",
            "3\n",
            "4\n"
          ]
        }
      ]
    },
    {
      "cell_type": "code",
      "source": [
        "# Iterator\n",
        "iterable=iter(lst); iterable"
      ],
      "metadata": {
        "colab": {
          "base_uri": "https://localhost:8080/"
        },
        "id": "EtuZzIK0fwYO",
        "outputId": "81c333fe-50b6-4e0b-c0f3-b67c552bdcfb"
      },
      "execution_count": 3,
      "outputs": [
        {
          "output_type": "execute_result",
          "data": {
            "text/plain": [
              "<list_iterator at 0x7fe2876cdf90>"
            ]
          },
          "metadata": {},
          "execution_count": 3
        }
      ]
    },
    {
      "cell_type": "code",
      "source": [
        "## Generate iterate\n",
        "for i in iterable:\n",
        "    print(i)"
      ],
      "metadata": {
        "colab": {
          "base_uri": "https://localhost:8080/"
        },
        "id": "vVMSUCnJf2K8",
        "outputId": "dedad958-837f-459b-9358-9b86d6e3da23"
      },
      "execution_count": 4,
      "outputs": [
        {
          "output_type": "stream",
          "name": "stdout",
          "text": [
            "1\n",
            "2\n",
            "3\n",
            "4\n"
          ]
        }
      ]
    },
    {
      "cell_type": "code",
      "source": [
        "try:\n",
        "    print(next(iterable))\n",
        "except StopIteration:\n",
        "    print(\"The iterator is empty\")"
      ],
      "metadata": {
        "colab": {
          "base_uri": "https://localhost:8080/"
        },
        "id": "z-8kVJTZgCz5",
        "outputId": "9afeec72-aa8c-46e9-8091-867e53640b2e"
      },
      "execution_count": 7,
      "outputs": [
        {
          "output_type": "stream",
          "name": "stdout",
          "text": [
            "The iterator is empty\n"
          ]
        }
      ]
    },
    {
      "cell_type": "markdown",
      "source": [
        "# Generator"
      ],
      "metadata": {
        "id": "UeBRGQvfgSlP"
      }
    },
    {
      "cell_type": "code",
      "source": [
        "def square(n):\n",
        "    for i in range(n):\n",
        "        yield i**2\n",
        "# yield is key "
      ],
      "metadata": {
        "id": "HLJ0SfEGgRnC"
      },
      "execution_count": 8,
      "outputs": []
    },
    {
      "cell_type": "code",
      "source": [
        "for i in square(9):\n",
        "    print(i)\n"
      ],
      "metadata": {
        "colab": {
          "base_uri": "https://localhost:8080/"
        },
        "id": "wal4jHWpglKn",
        "outputId": "949f90a2-d030-4364-d0fa-e90ff3bf4eb8"
      },
      "execution_count": 10,
      "outputs": [
        {
          "output_type": "stream",
          "name": "stdout",
          "text": [
            "0\n",
            "1\n",
            "4\n",
            "9\n",
            "16\n",
            "25\n",
            "36\n",
            "49\n",
            "64\n"
          ]
        }
      ]
    },
    {
      "cell_type": "markdown",
      "source": [
        "#Difference\n",
        "To create iterator we use iter() and to generator we use function along with yield keyword\n",
        "\n",
        "1.   Generator uses the yield keyword. It saves the local variable\n",
        "2.   Generator in python helps us top write fast and compact code\n",
        "Python iterator is much more memory efficient\n"
      ],
      "metadata": {
        "id": "A9TnqdGwhBhy"
      }
    }
  ]
}