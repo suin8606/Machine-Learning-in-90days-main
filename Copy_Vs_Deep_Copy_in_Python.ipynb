{
  "nbformat": 4,
  "nbformat_minor": 0,
  "metadata": {
    "colab": {
      "provenance": [],
      "authorship_tag": "ABX9TyOQZVf8OQ/3491No8oDaatm",
      "include_colab_link": true
    },
    "kernelspec": {
      "name": "python3",
      "display_name": "Python 3"
    },
    "language_info": {
      "name": "python"
    }
  },
  "cells": [
    {
      "cell_type": "markdown",
      "metadata": {
        "id": "view-in-github",
        "colab_type": "text"
      },
      "source": [
        "<a href=\"https://colab.research.google.com/github/suin8606/Machine-Learning-in-90days/blob/main/Copy_Vs_Deep_Copy_in_Python.ipynb\" target=\"_parent\"><img src=\"https://colab.research.google.com/assets/colab-badge.svg\" alt=\"Open In Colab\"/></a>"
      ]
    },
    {
      "cell_type": "markdown",
      "source": [
        "# Copy Vs Deep Copy in Python"
      ],
      "metadata": {
        "id": "9_ksBsvvMx-k"
      }
    },
    {
      "cell_type": "code",
      "source": [
        "lst1=[1,2,3,4]\n",
        "lst2=lst1\n",
        "# lst1=lst2 x working."
      ],
      "metadata": {
        "id": "jEAmFDkUM27O"
      },
      "execution_count": 20,
      "outputs": []
    },
    {
      "cell_type": "code",
      "source": [
        "print(lst1)\n",
        "print(lst2)"
      ],
      "metadata": {
        "colab": {
          "base_uri": "https://localhost:8080/"
        },
        "id": "P_hn8Z9AM6g6",
        "outputId": "a12973ef-5167-4279-9f38-99a1dafe3725"
      },
      "execution_count": 21,
      "outputs": [
        {
          "output_type": "stream",
          "name": "stdout",
          "text": [
            "[1, 2, 3, 4]\n",
            "[1, 2, 3, 4]\n"
          ]
        }
      ]
    },
    {
      "cell_type": "code",
      "source": [
        "lst1[0]=10000"
      ],
      "metadata": {
        "id": "u0CZUEcuNCha"
      },
      "execution_count": 22,
      "outputs": []
    },
    {
      "cell_type": "code",
      "source": [
        "print(lst1)"
      ],
      "metadata": {
        "colab": {
          "base_uri": "https://localhost:8080/"
        },
        "id": "eG7GGIW_NFfj",
        "outputId": "d84d230c-d7fc-499e-ef08-cce2f595c573"
      },
      "execution_count": 23,
      "outputs": [
        {
          "output_type": "stream",
          "name": "stdout",
          "text": [
            "[10000, 2, 3, 4]\n"
          ]
        }
      ]
    },
    {
      "cell_type": "code",
      "source": [
        "lst2"
      ],
      "metadata": {
        "colab": {
          "base_uri": "https://localhost:8080/"
        },
        "id": "MlO20SAONICi",
        "outputId": "2255d2c8-84a3-495e-cba4-072aacd7a60e"
      },
      "execution_count": 24,
      "outputs": [
        {
          "output_type": "execute_result",
          "data": {
            "text/plain": [
              "[10000, 2, 3, 4]"
            ]
          },
          "metadata": {},
          "execution_count": 24
        }
      ]
    },
    {
      "cell_type": "markdown",
      "source": [
        "As you see the element in lst2 is also changed.\n",
        "\n",
        "Next\n",
        "Let use .copy function"
      ],
      "metadata": {
        "id": "2gEMUEJaNlQ3"
      }
    },
    {
      "cell_type": "code",
      "source": [
        "#Called Shallow Copy\n",
        "lst1=[1,2,3,4]\n",
        "lst2=lst1.copy()"
      ],
      "metadata": {
        "id": "xZCV6lzNNwdi"
      },
      "execution_count": 31,
      "outputs": []
    },
    {
      "cell_type": "code",
      "source": [
        "print(lst1)\n",
        "print(lst2)"
      ],
      "metadata": {
        "colab": {
          "base_uri": "https://localhost:8080/"
        },
        "id": "Y-OVgvhKSmWy",
        "outputId": "1462fa7a-9680-4994-dab9-bb7c7ae85778"
      },
      "execution_count": 32,
      "outputs": [
        {
          "output_type": "stream",
          "name": "stdout",
          "text": [
            "[1, 2, 3, 4]\n",
            "[1, 2, 3, 4]\n"
          ]
        }
      ]
    },
    {
      "cell_type": "code",
      "source": [
        "#Changing an emelment\n",
        "lst2[0]=1000"
      ],
      "metadata": {
        "id": "n17bbrEFN3rg"
      },
      "execution_count": 33,
      "outputs": []
    },
    {
      "cell_type": "code",
      "source": [
        "lst2, lst1"
      ],
      "metadata": {
        "colab": {
          "base_uri": "https://localhost:8080/"
        },
        "id": "bu9wxNHDN7sz",
        "outputId": "81c1cc25-d4ac-4185-a8d8-fca911e42b10"
      },
      "execution_count": 34,
      "outputs": [
        {
          "output_type": "execute_result",
          "data": {
            "text/plain": [
              "([1000, 2, 3, 4], [1, 2, 3, 4])"
            ]
          },
          "metadata": {},
          "execution_count": 34
        }
      ]
    },
    {
      "cell_type": "markdown",
      "source": [
        "You see lst1[1] didn't change."
      ],
      "metadata": {
        "id": "XnaGq2gDRFQ-"
      }
    },
    {
      "cell_type": "code",
      "source": [
        "print(lst1)\n",
        "print(lst2)"
      ],
      "metadata": {
        "colab": {
          "base_uri": "https://localhost:8080/"
        },
        "id": "yPA5tWziSvMX",
        "outputId": "e8d3ae4a-a72b-4d2d-b3b1-c1ea368701e8"
      },
      "execution_count": 35,
      "outputs": [
        {
          "output_type": "stream",
          "name": "stdout",
          "text": [
            "[1, 2, 3, 4]\n",
            "[1000, 2, 3, 4]\n"
          ]
        }
      ]
    },
    {
      "cell_type": "code",
      "source": [
        "#Another example\n",
        "## Shallow Copy nested list\n",
        "lst1=[[1,2,3,4],[5,6,7,8]]\n",
        "lst2=lst1.copy()"
      ],
      "metadata": {
        "id": "3htvqEfoRLkX"
      },
      "execution_count": 36,
      "outputs": []
    },
    {
      "cell_type": "code",
      "source": [
        "lst1[0][0]=777"
      ],
      "metadata": {
        "id": "GVDZDMTvRUe8"
      },
      "execution_count": 37,
      "outputs": []
    },
    {
      "cell_type": "code",
      "source": [
        "lst1"
      ],
      "metadata": {
        "colab": {
          "base_uri": "https://localhost:8080/"
        },
        "id": "2V3kyBQ7Rfns",
        "outputId": "cb1d8c62-21de-425e-f011-feb53073e9f7"
      },
      "execution_count": 38,
      "outputs": [
        {
          "output_type": "execute_result",
          "data": {
            "text/plain": [
              "[[777, 2, 3, 4], [5, 6, 7, 8]]"
            ]
          },
          "metadata": {},
          "execution_count": 38
        }
      ]
    },
    {
      "cell_type": "code",
      "source": [
        "lst2"
      ],
      "metadata": {
        "colab": {
          "base_uri": "https://localhost:8080/"
        },
        "id": "LF0RSu0gRgrZ",
        "outputId": "118b9127-1b7b-4518-c12f-8ba11eb84cea"
      },
      "execution_count": 39,
      "outputs": [
        {
          "output_type": "execute_result",
          "data": {
            "text/plain": [
              "[[777, 2, 3, 4], [5, 6, 7, 8]]"
            ]
          },
          "metadata": {},
          "execution_count": 39
        }
      ]
    },
    {
      "cell_type": "code",
      "source": [
        "#In nested list elements in lst1 is changed as lst2 is however using append() we can see the difference.\n",
        "lst1.append([0,0,0,0])"
      ],
      "metadata": {
        "id": "9biQGu1qS86B"
      },
      "execution_count": 40,
      "outputs": []
    },
    {
      "cell_type": "code",
      "source": [
        "print(lst1)\n",
        "print(lst2)"
      ],
      "metadata": {
        "colab": {
          "base_uri": "https://localhost:8080/"
        },
        "id": "jTwabxU2TU_7",
        "outputId": "1c8c8ceb-2eca-4ddc-bf8e-fc343f1ebe5a"
      },
      "execution_count": 41,
      "outputs": [
        {
          "output_type": "stream",
          "name": "stdout",
          "text": [
            "[[777, 2, 3, 4], [5, 6, 7, 8], [0, 0, 0, 0]]\n",
            "[[777, 2, 3, 4], [5, 6, 7, 8]]\n"
          ]
        }
      ]
    },
    {
      "cell_type": "markdown",
      "source": [
        "#Deep copy."
      ],
      "metadata": {
        "id": "YUc7P8khTbgW"
      }
    },
    {
      "cell_type": "code",
      "source": [
        "import copy\n",
        "lst1=[[1,2,3,4,5],[6,7,8,9]]\n",
        "lst2=copy.deepcopy(lst1)"
      ],
      "metadata": {
        "id": "q394-G1YTakd"
      },
      "execution_count": 49,
      "outputs": []
    },
    {
      "cell_type": "code",
      "source": [
        "print(lst1)\n",
        "print(lst2)"
      ],
      "metadata": {
        "colab": {
          "base_uri": "https://localhost:8080/"
        },
        "id": "B_pZulpgToN4",
        "outputId": "71ae3b72-9f9d-4c66-d6ca-49311c25ea47"
      },
      "execution_count": 50,
      "outputs": [
        {
          "output_type": "stream",
          "name": "stdout",
          "text": [
            "[[1, 2, 3, 4, 5], [6, 7, 8, 9]]\n",
            "[[1, 2, 3, 4, 5], [6, 7, 8, 9]]\n"
          ]
        }
      ]
    },
    {
      "cell_type": "code",
      "source": [
        "lst2[0][0]=500\n",
        "print(lst2)\n",
        "print(lst1)"
      ],
      "metadata": {
        "colab": {
          "base_uri": "https://localhost:8080/"
        },
        "id": "FkszQMD9TyR4",
        "outputId": "94ed712b-06b8-4649-ad40-1c04caaec553"
      },
      "execution_count": 51,
      "outputs": [
        {
          "output_type": "stream",
          "name": "stdout",
          "text": [
            "[[500, 2, 3, 4, 5], [6, 7, 8, 9]]\n",
            "[[1, 2, 3, 4, 5], [6, 7, 8, 9]]\n"
          ]
        }
      ]
    }
  ]
}