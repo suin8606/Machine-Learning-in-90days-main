{
  "nbformat": 4,
  "nbformat_minor": 0,
  "metadata": {
    "colab": {
      "provenance": [],
      "authorship_tag": "ABX9TyPKzjsXyjJJdpI7UznkwVg4",
      "include_colab_link": true
    },
    "kernelspec": {
      "name": "python3",
      "display_name": "Python 3"
    },
    "language_info": {
      "name": "python"
    }
  },
  "cells": [
    {
      "cell_type": "markdown",
      "metadata": {
        "id": "view-in-github",
        "colab_type": "text"
      },
      "source": [
        "<a href=\"https://colab.research.google.com/github/suin8606/Machine-Learning-in-90days/blob/main/IS_Keyword_and_%3D%3D_.ipynb\" target=\"_parent\"><img src=\"https://colab.research.google.com/assets/colab-badge.svg\" alt=\"Open In Colab\"/></a>"
      ]
    },
    {
      "cell_type": "markdown",
      "source": [
        "# IS vs == (Operators)"
      ],
      "metadata": {
        "id": "v_0nlr-qw7kG"
      }
    },
    {
      "cell_type": "code",
      "source": [
        "lst1=[1,2,3,4,5]\n",
        "lst2=[1,2,3,4,5]\n",
        "lst1==lst2"
      ],
      "metadata": {
        "colab": {
          "base_uri": "https://localhost:8080/"
        },
        "id": "HzSGseFzw_sK",
        "outputId": "fe4e891f-23c7-495b-ebbb-ed3238abfd1c"
      },
      "execution_count": 1,
      "outputs": [
        {
          "output_type": "execute_result",
          "data": {
            "text/plain": [
              "True"
            ]
          },
          "metadata": {},
          "execution_count": 1
        }
      ]
    },
    {
      "cell_type": "code",
      "source": [
        "#Another example\n",
        "a='suin'\n",
        "b='suin'\n",
        "a==b"
      ],
      "metadata": {
        "colab": {
          "base_uri": "https://localhost:8080/"
        },
        "id": "ElWzHzwfxKvj",
        "outputId": "bb43b3cc-2526-48c3-a9e9-c3f3a3d2d51d"
      },
      "execution_count": 2,
      "outputs": [
        {
          "output_type": "execute_result",
          "data": {
            "text/plain": [
              "True"
            ]
          },
          "metadata": {},
          "execution_count": 2
        }
      ]
    },
    {
      "cell_type": "markdown",
      "source": [
        "But what if using IS keyword? "
      ],
      "metadata": {
        "id": "36jLxWqCxTxJ"
      }
    },
    {
      "cell_type": "code",
      "source": [
        "lst1 is lst2\n",
        "#You see even if elements in diffent objects are same, it gives False. Why?"
      ],
      "metadata": {
        "colab": {
          "base_uri": "https://localhost:8080/"
        },
        "id": "yJDE_sZUxQ5z",
        "outputId": "8cfe52a3-3852-4558-9db9-c837daa11c15"
      },
      "execution_count": 5,
      "outputs": [
        {
          "output_type": "execute_result",
          "data": {
            "text/plain": [
              "False"
            ]
          },
          "metadata": {},
          "execution_count": 5
        }
      ]
    },
    {
      "cell_type": "markdown",
      "source": [
        "You see even if elements in diffent objects are same, it gives False. Why?\n",
        "\n",
        "The operator, == compares the value of two objects, whereas the operator, IS checks whether two variables point to the same object in memory."
      ],
      "metadata": {
        "id": "xzb8nfe0xz83"
      }
    },
    {
      "cell_type": "code",
      "source": [
        "#Therefore\n",
        "lst=[1,2,3,4,5,7,7,7,7,7]\n",
        "c1=lst\n",
        "lst is c1"
      ],
      "metadata": {
        "colab": {
          "base_uri": "https://localhost:8080/"
        },
        "id": "5-xe0E2Fx24W",
        "outputId": "07929791-c3d7-4428-e45a-7ca211314dee"
      },
      "execution_count": 9,
      "outputs": [
        {
          "output_type": "execute_result",
          "data": {
            "text/plain": [
              "True"
            ]
          },
          "metadata": {},
          "execution_count": 9
        }
      ]
    },
    {
      "cell_type": "code",
      "source": [
        "#Or\n",
        "c1 is lst"
      ],
      "metadata": {
        "colab": {
          "base_uri": "https://localhost:8080/"
        },
        "id": "o-qGNeu3yzCu",
        "outputId": "78ea2a6a-a986-47ff-d807-e17fdafed0e0"
      },
      "execution_count": 10,
      "outputs": [
        {
          "output_type": "execute_result",
          "data": {
            "text/plain": [
              "True"
            ]
          },
          "metadata": {},
          "execution_count": 10
        }
      ]
    },
    {
      "cell_type": "code",
      "source": [
        "# You can chanage the element and it also automatically changes the element in c1 ojbect as well.\n",
        "#Example\n",
        "lst[0]=100\n",
        "lst"
      ],
      "metadata": {
        "colab": {
          "base_uri": "https://localhost:8080/"
        },
        "id": "0H4Gw0CXy29O",
        "outputId": "9f6954b8-2663-41db-b647-02ae881913c1"
      },
      "execution_count": 13,
      "outputs": [
        {
          "output_type": "execute_result",
          "data": {
            "text/plain": [
              "[100, 2, 3, 4, 5, 7, 7, 7, 7, 7]"
            ]
          },
          "metadata": {},
          "execution_count": 13
        }
      ]
    },
    {
      "cell_type": "code",
      "source": [
        "c1"
      ],
      "metadata": {
        "colab": {
          "base_uri": "https://localhost:8080/"
        },
        "id": "bnSGjm8MzI2z",
        "outputId": "bc0ffd8d-b0b8-4ed9-8aba-074fc7791287"
      },
      "execution_count": 14,
      "outputs": [
        {
          "output_type": "execute_result",
          "data": {
            "text/plain": [
              "[100, 2, 3, 4, 5, 7, 7, 7, 7, 7]"
            ]
          },
          "metadata": {},
          "execution_count": 14
        }
      ]
    }
  ]
}
