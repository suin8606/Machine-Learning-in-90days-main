{
  "nbformat": 4,
  "nbformat_minor": 0,
  "metadata": {
    "colab": {
      "name": "Advanced Exception.ipynb",
      "provenance": [],
      "authorship_tag": "ABX9TyPRLRS/MkONAYbkPbgOIUIz",
      "include_colab_link": true
    },
    "kernelspec": {
      "name": "python3",
      "display_name": "Python 3"
    },
    "language_info": {
      "name": "python"
    }
  },
  "cells": [
    {
      "cell_type": "markdown",
      "metadata": {
        "id": "view-in-github",
        "colab_type": "text"
      },
      "source": [
        "<a href=\"https://colab.research.google.com/github/suin8606/Machine-Learning-in-90days/blob/main/Advanced_Exception.ipynb\" target=\"_parent\"><img src=\"https://colab.research.google.com/assets/colab-badge.svg\" alt=\"Open In Colab\"/></a>"
      ]
    },
    {
      "cell_type": "markdown",
      "source": [
        "# Custom Exception"
      ],
      "metadata": {
        "id": "6pOo86UwIHAW"
      }
    },
    {
      "cell_type": "code",
      "source": [
        "class Error(Exception):\n",
        "    pass\n",
        "class dobException(Error):\n",
        "    pass"
      ],
      "metadata": {
        "id": "psx_9fklIHrj"
      },
      "execution_count": 1,
      "outputs": []
    },
    {
      "cell_type": "code",
      "source": [
        "from datetime import datetime\n",
        "cur=datetime.today().strftime('%Y')\n",
        "year=int(input(\"enter the year of birth \"))\n",
        "age=2022-year\n",
        "try:\n",
        "    if age<=30 & age >20:\n",
        "        print(\"The age is valid.\")\n",
        "    else:\n",
        "        raise dobException\n",
        "except dobException:\n",
        "    print('The age is not valid')\n"
      ],
      "metadata": {
        "colab": {
          "base_uri": "https://localhost:8080/"
        },
        "id": "0cgvVm1RIhRW",
        "outputId": "c6b5801c-75f4-4708-8910-97e5eb10db16"
      },
      "execution_count": 22,
      "outputs": [
        {
          "output_type": "stream",
          "name": "stdout",
          "text": [
            "enter the year of birth 1999\n",
            "The year age is not valid\n"
          ]
        }
      ]
    }
  ]
}